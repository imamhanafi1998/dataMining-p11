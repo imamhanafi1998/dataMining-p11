{
  "nbformat": 4,
  "nbformat_minor": 0,
  "metadata": {
    "colab": {
      "name": "p11.ipynb",
      "provenance": [],
      "collapsed_sections": []
    },
    "kernelspec": {
      "name": "python3",
      "display_name": "Python 3"
    }
  },
  "cells": [
    {
      "cell_type": "code",
      "metadata": {
        "id": "joNMVv30O571"
      },
      "source": [
        "import numpy as np\n",
        "import pandas as pd\n",
        "import matplotlib.pyplot as plt\n",
        "import seaborn as sns\n",
        "%matplotlib inline\n",
        "\n",
        "plt.style.use('ggplot')\n",
        "sns.set_style('whitegrid')"
      ],
      "execution_count": 1,
      "outputs": []
    },
    {
      "cell_type": "code",
      "metadata": {
        "colab": {
          "base_uri": "https://localhost:8080/"
        },
        "id": "IE4_WthhRVm3",
        "outputId": "c29e1a33-05e0-48fb-d6dc-68314e94289c"
      },
      "source": [
        "!pip install Sastrawi"
      ],
      "execution_count": 2,
      "outputs": [
        {
          "output_type": "stream",
          "text": [
            "Collecting Sastrawi\n",
            "\u001b[?25l  Downloading https://files.pythonhosted.org/packages/6f/4b/bab676953da3103003730b8fcdfadbdd20f333d4add10af949dd5c51e6ed/Sastrawi-1.0.1-py2.py3-none-any.whl (209kB)\n",
            "\r\u001b[K     |█▋                              | 10kB 14.2MB/s eta 0:00:01\r\u001b[K     |███▏                            | 20kB 20.1MB/s eta 0:00:01\r\u001b[K     |████▊                           | 30kB 17.2MB/s eta 0:00:01\r\u001b[K     |██████▎                         | 40kB 11.9MB/s eta 0:00:01\r\u001b[K     |███████▉                        | 51kB 7.6MB/s eta 0:00:01\r\u001b[K     |█████████▍                      | 61kB 8.3MB/s eta 0:00:01\r\u001b[K     |███████████                     | 71kB 7.7MB/s eta 0:00:01\r\u001b[K     |████████████▌                   | 81kB 8.0MB/s eta 0:00:01\r\u001b[K     |██████████████                  | 92kB 8.5MB/s eta 0:00:01\r\u001b[K     |███████████████▋                | 102kB 8.9MB/s eta 0:00:01\r\u001b[K     |█████████████████▏              | 112kB 8.9MB/s eta 0:00:01\r\u001b[K     |██████████████████▊             | 122kB 8.9MB/s eta 0:00:01\r\u001b[K     |████████████████████▎           | 133kB 8.9MB/s eta 0:00:01\r\u001b[K     |█████████████████████▉          | 143kB 8.9MB/s eta 0:00:01\r\u001b[K     |███████████████████████▍        | 153kB 8.9MB/s eta 0:00:01\r\u001b[K     |█████████████████████████       | 163kB 8.9MB/s eta 0:00:01\r\u001b[K     |██████████████████████████▋     | 174kB 8.9MB/s eta 0:00:01\r\u001b[K     |████████████████████████████▏   | 184kB 8.9MB/s eta 0:00:01\r\u001b[K     |█████████████████████████████▊  | 194kB 8.9MB/s eta 0:00:01\r\u001b[K     |███████████████████████████████▎| 204kB 8.9MB/s eta 0:00:01\r\u001b[K     |████████████████████████████████| 215kB 8.9MB/s \n",
            "\u001b[?25hInstalling collected packages: Sastrawi\n",
            "Successfully installed Sastrawi-1.0.1\n"
          ],
          "name": "stdout"
        }
      ]
    },
    {
      "cell_type": "code",
      "metadata": {
        "id": "tvj0pB7cQ0b_"
      },
      "source": [
        "import csv\n",
        "import re\n",
        "import nltk\n",
        "import string\n",
        "from nltk.corpus import stopwords\n",
        "from nltk.tokenize import word_tokenize, sent_tokenize\n",
        "from Sastrawi.Stemmer.StemmerFactory import StemmerFactory\n",
        "\n",
        "from sklearn.feature_extraction.text import TfidfVectorizer\n",
        "from sklearn.feature_extraction.text import TfidfTransformer\n",
        "\n",
        "from sklearn.model_selection import train_test_split\n",
        "from sklearn.naive_bayes import MultinomialNB\n",
        "from sklearn.naive_bayes import BernoulliNB\n",
        "from sklearn.naive_bayes import GaussianNB\n",
        "\n",
        "from sklearn.metrics import confusion_matrix\n",
        "from sklearn.metrics import accuracy_score\n",
        "pd.set_option('max_colwidth', 180)"
      ],
      "execution_count": 3,
      "outputs": []
    },
    {
      "cell_type": "code",
      "metadata": {
        "colab": {
          "base_uri": "https://localhost:8080/",
          "height": 216
        },
        "id": "XTa_FjhBRe8j",
        "outputId": "52435965-4c6d-4400-a735-84575655fc7e"
      },
      "source": [
        "df = pd.read_csv(\"/content/xiaomi2019.csv\", sep=\";\", encoding=\"ISO-8859-1\")\n",
        "df.head()"
      ],
      "execution_count": 4,
      "outputs": [
        {
          "output_type": "execute_result",
          "data": {
            "text/html": [
              "<div>\n",
              "<style scoped>\n",
              "    .dataframe tbody tr th:only-of-type {\n",
              "        vertical-align: middle;\n",
              "    }\n",
              "\n",
              "    .dataframe tbody tr th {\n",
              "        vertical-align: top;\n",
              "    }\n",
              "\n",
              "    .dataframe thead th {\n",
              "        text-align: right;\n",
              "    }\n",
              "</style>\n",
              "<table border=\"1\" class=\"dataframe\">\n",
              "  <thead>\n",
              "    <tr style=\"text-align: right;\">\n",
              "      <th></th>\n",
              "      <th>tweet</th>\n",
              "      <th>sentiment</th>\n",
              "    </tr>\n",
              "  </thead>\n",
              "  <tbody>\n",
              "    <tr>\n",
              "      <th>0</th>\n",
              "      <td>pake hp xiaomi bisa kan</td>\n",
              "      <td>Positive</td>\n",
              "    </tr>\n",
              "    <tr>\n",
              "      <th>1</th>\n",
              "      <td>Xiaomi yi action kamera bagus juga buat video bisa di jadikan pertimbangan nihhh</td>\n",
              "      <td>Positive</td>\n",
              "    </tr>\n",
              "    <tr>\n",
              "      <th>2</th>\n",
              "      <td>Ya Allah jauhkanlah aku dari godaan clickbait line today dan berita-berita di browser xiaomi</td>\n",
              "      <td>Positive</td>\n",
              "    </tr>\n",
              "    <tr>\n",
              "      <th>3</th>\n",
              "      <td>hpmu opo se? kok sawangane jernih koyok iph â Xiaomi euy:' https://lap78.ask.fm/igoto/45DKECPW7B667HQMHN2IG6NM7SOD5OAUS7QPPAN4D7ROV45V2Q24OJAMGBFM2RRQK2272FYJJNWDWXQVYYU5Y25C...</td>\n",
              "      <td>Positive</td>\n",
              "    </tr>\n",
              "    <tr>\n",
              "      <th>4</th>\n",
              "      <td>numpang nanya itu hapenya xiaomi bukan ya? Kalo iya tipe apa? Jernih kameranya mirip iphone</td>\n",
              "      <td>Positive</td>\n",
              "    </tr>\n",
              "  </tbody>\n",
              "</table>\n",
              "</div>"
            ],
            "text/plain": [
              "                                                                                                                                                                                 tweet sentiment\n",
              "0                                                                                                                                                              pake hp xiaomi bisa kan  Positive\n",
              "1                                                                                                     Xiaomi yi action kamera bagus juga buat video bisa di jadikan pertimbangan nihhh  Positive\n",
              "2                                                                                         Ya Allah jauhkanlah aku dari godaan clickbait line today dan berita-berita di browser xiaomi  Positive\n",
              "3  hpmu opo se? kok sawangane jernih koyok iph â Xiaomi euy:' https://lap78.ask.fm/igoto/45DKECPW7B667HQMHN2IG6NM7SOD5OAUS7QPPAN4D7ROV45V2Q24OJAMGBFM2RRQK2272FYJJNWDWXQVYYU5Y25C...  Positive\n",
              "4                                                                                          numpang nanya itu hapenya xiaomi bukan ya? Kalo iya tipe apa? Jernih kameranya mirip iphone  Positive"
            ]
          },
          "metadata": {
            "tags": []
          },
          "execution_count": 4
        }
      ]
    },
    {
      "cell_type": "code",
      "metadata": {
        "colab": {
          "base_uri": "https://localhost:8080/"
        },
        "id": "Wa7n-Hg2SXB-",
        "outputId": "82f0208a-2877-428e-e82c-3c2649f1cc5a"
      },
      "source": [
        "df.info()"
      ],
      "execution_count": 5,
      "outputs": [
        {
          "output_type": "stream",
          "text": [
            "<class 'pandas.core.frame.DataFrame'>\n",
            "RangeIndex: 101 entries, 0 to 100\n",
            "Data columns (total 2 columns):\n",
            " #   Column     Non-Null Count  Dtype \n",
            "---  ------     --------------  ----- \n",
            " 0   tweet      101 non-null    object\n",
            " 1   sentiment  101 non-null    object\n",
            "dtypes: object(2)\n",
            "memory usage: 1.7+ KB\n"
          ],
          "name": "stdout"
        }
      ]
    },
    {
      "cell_type": "code",
      "metadata": {
        "colab": {
          "base_uri": "https://localhost:8080/",
          "height": 357
        },
        "id": "EhFXX9SvSeBF",
        "outputId": "08a2a593-2ef4-4499-d2f5-d99aa1f014a8"
      },
      "source": [
        "df[\"sentiment\"].value_counts().plot(kind=\"pie\", explode=[0, 0.1], figsize=(6,6), autopct=\"%1.1f%%\", shadow=True)\n",
        "plt.ylabel(\"positive vs negative\")\n",
        "plt.legend([\"postive\", \"negative\"])\n",
        "plt.show()"
      ],
      "execution_count": 6,
      "outputs": [
        {
          "output_type": "display_data",
          "data": {
            "image/png": "[encoded data removed]",
            "text/plain": [
              "<Figure size 432x432 with 1 Axes>"
            ]
          },
          "metadata": {
            "tags": []
          }
        }
      ]
    },
    {
      "cell_type": "code",
      "metadata": {
        "colab": {
          "base_uri": "https://localhost:8080/",
          "height": 236
        },
        "id": "Tl469RIwTC33",
        "outputId": "6aba7886-a8eb-4c68-e98f-dc3afcc0de78"
      },
      "source": [
        "df[\"length\"]=df[\"tweet\"].apply(len)\n",
        "df.head()"
      ],
      "execution_count": 30,
      "outputs": [
        {
          "output_type": "execute_result",
          "data": {
            "text/html": [
              "<div>\n",
              "<style scoped>\n",
              "    .dataframe tbody tr th:only-of-type {\n",
              "        vertical-align: middle;\n",
              "    }\n",
              "\n",
              "    .dataframe tbody tr th {\n",
              "        vertical-align: top;\n",
              "    }\n",
              "\n",
              "    .dataframe thead th {\n",
              "        text-align: right;\n",
              "    }\n",
              "</style>\n",
              "<table border=\"1\" class=\"dataframe\">\n",
              "  <thead>\n",
              "    <tr style=\"text-align: right;\">\n",
              "      <th></th>\n",
              "      <th>tweet</th>\n",
              "      <th>sentiment</th>\n",
              "      <th>length</th>\n",
              "      <th>tweetWords</th>\n",
              "      <th>num</th>\n",
              "    </tr>\n",
              "  </thead>\n",
              "  <tbody>\n",
              "    <tr>\n",
              "      <th>0</th>\n",
              "      <td>pake hp xiaomi bisa kan</td>\n",
              "      <td>Positive</td>\n",
              "      <td>23</td>\n",
              "      <td>[pake, hp, xiaomi, bisa, kan]</td>\n",
              "      <td>5</td>\n",
              "    </tr>\n",
              "    <tr>\n",
              "      <th>1</th>\n",
              "      <td>Xiaomi yi action kamera bagus juga buat video bisa di jadikan pertimbangan nihhh</td>\n",
              "      <td>Positive</td>\n",
              "      <td>80</td>\n",
              "      <td>[Xiaomi, yi, action, kamera, bagus, juga, buat, video, bisa, di, jadikan, pertimbangan, nihhh]</td>\n",
              "      <td>13</td>\n",
              "    </tr>\n",
              "    <tr>\n",
              "      <th>2</th>\n",
              "      <td>Ya Allah jauhkanlah aku dari godaan clickbait line today dan berita-berita di browser xiaomi</td>\n",
              "      <td>Positive</td>\n",
              "      <td>92</td>\n",
              "      <td>[Ya, Allah, jauhkanlah, aku, dari, godaan, clickbait, line, today, dan, berita-berita, di, browser, xiaomi]</td>\n",
              "      <td>14</td>\n",
              "    </tr>\n",
              "    <tr>\n",
              "      <th>3</th>\n",
              "      <td>hpmu opo se? kok sawangane jernih koyok iph â Xiaomi euy:' https://lap78.ask.fm/igoto/45DKECPW7B667HQMHN2IG6NM7SOD5OAUS7QPPAN4D7ROV45V2Q24OJAMGBFM2RRQK2272FYJJNWDWXQVYYU5Y25C...</td>\n",
              "      <td>Positive</td>\n",
              "      <td>309</td>\n",
              "      <td>[hpmu, opo, se?, kok, sawangane, jernih, koyok, iph, â, Xiaomi, euy:', https://lap78.ask.fm/igoto/45DKECPW7B667HQMHN2IG6NM7SOD5OAUS7QPPAN4D7ROV45V2Q24OJAMGBFM2RRQK2272FYJJNWD...</td>\n",
              "      <td>13</td>\n",
              "    </tr>\n",
              "    <tr>\n",
              "      <th>4</th>\n",
              "      <td>numpang nanya itu hapenya xiaomi bukan ya? Kalo iya tipe apa? Jernih kameranya mirip iphone</td>\n",
              "      <td>Positive</td>\n",
              "      <td>91</td>\n",
              "      <td>[numpang, nanya, itu, hapenya, xiaomi, bukan, ya?, Kalo, iya, tipe, apa?, Jernih, kameranya, mirip, iphone]</td>\n",
              "      <td>15</td>\n",
              "    </tr>\n",
              "  </tbody>\n",
              "</table>\n",
              "</div>"
            ],
            "text/plain": [
              "                                                                                                                                                                                 tweet  ... num\n",
              "0                                                                                                                                                              pake hp xiaomi bisa kan  ...   5\n",
              "1                                                                                                     Xiaomi yi action kamera bagus juga buat video bisa di jadikan pertimbangan nihhh  ...  13\n",
              "2                                                                                         Ya Allah jauhkanlah aku dari godaan clickbait line today dan berita-berita di browser xiaomi  ...  14\n",
              "3  hpmu opo se? kok sawangane jernih koyok iph â Xiaomi euy:' https://lap78.ask.fm/igoto/45DKECPW7B667HQMHN2IG6NM7SOD5OAUS7QPPAN4D7ROV45V2Q24OJAMGBFM2RRQK2272FYJJNWDWXQVYYU5Y25C...  ...  13\n",
              "4                                                                                          numpang nanya itu hapenya xiaomi bukan ya? Kalo iya tipe apa? Jernih kameranya mirip iphone  ...  15\n",
              "\n",
              "[5 rows x 5 columns]"
            ]
          },
          "metadata": {
            "tags": []
          },
          "execution_count": 30
        }
      ]
    },
    {
      "cell_type": "code",
      "metadata": {
        "id": "tNcFjkBVUrnG",
        "colab": {
          "base_uri": "https://localhost:8080/",
          "height": 353
        },
        "outputId": "e06f0096-a760-4764-a5e6-651fbaef7443"
      },
      "source": [
        "# del df[\"num\"]\n",
        "arr = df[\"tweet\"].to_numpy()\n",
        "def getWordCount(tweet):\n",
        "  wordCount = list(map(len, tweet.split()))\n",
        "  return wordCount\n",
        "result = map(getWordCount, arr)\n",
        "df[\"wordCount\"]=list(result)\n",
        "df.head()\n",
        "# list(result)"
      ],
      "execution_count": 58,
      "outputs": [
        {
          "output_type": "execute_result",
          "data": {
            "text/html": [
              "<div>\n",
              "<style scoped>\n",
              "    .dataframe tbody tr th:only-of-type {\n",
              "        vertical-align: middle;\n",
              "    }\n",
              "\n",
              "    .dataframe tbody tr th {\n",
              "        vertical-align: top;\n",
              "    }\n",
              "\n",
              "    .dataframe thead th {\n",
              "        text-align: right;\n",
              "    }\n",
              "</style>\n",
              "<table border=\"1\" class=\"dataframe\">\n",
              "  <thead>\n",
              "    <tr style=\"text-align: right;\">\n",
              "      <th></th>\n",
              "      <th>tweet</th>\n",
              "      <th>sentiment</th>\n",
              "      <th>length</th>\n",
              "      <th>wordCount</th>\n",
              "    </tr>\n",
              "  </thead>\n",
              "  <tbody>\n",
              "    <tr>\n",
              "      <th>0</th>\n",
              "      <td>pake hp xiaomi bisa kan</td>\n",
              "      <td>Positive</td>\n",
              "      <td>23</td>\n",
              "      <td>[4, 2, 6, 4, 3]</td>\n",
              "    </tr>\n",
              "    <tr>\n",
              "      <th>1</th>\n",
              "      <td>Xiaomi yi action kamera bagus juga buat video bisa di jadikan pertimbangan nihhh</td>\n",
              "      <td>Positive</td>\n",
              "      <td>80</td>\n",
              "      <td>[6, 2, 6, 6, 5, 4, 4, 5, 4, 2, 7, 12, 5]</td>\n",
              "    </tr>\n",
              "    <tr>\n",
              "      <th>2</th>\n",
              "      <td>Ya Allah jauhkanlah aku dari godaan clickbait line today dan berita-berita di browser xiaomi</td>\n",
              "      <td>Positive</td>\n",
              "      <td>92</td>\n",
              "      <td>[2, 5, 10, 3, 4, 6, 9, 4, 5, 3, 13, 2, 7, 6]</td>\n",
              "    </tr>\n",
              "    <tr>\n",
              "      <th>3</th>\n",
              "      <td>hpmu opo se? kok sawangane jernih koyok iph â Xiaomi euy:' https://lap78.ask.fm/igoto/45DKECPW7B667HQMHN2IG6NM7SOD5OAUS7QPPAN4D7ROV45V2Q24OJAMGBFM2RRQK2272FYJJNWDWXQVYYU5Y25C...</td>\n",
              "      <td>Positive</td>\n",
              "      <td>309</td>\n",
              "      <td>[4, 3, 3, 3, 9, 6, 5, 3, 3, 6, 5, 244, 3]</td>\n",
              "    </tr>\n",
              "    <tr>\n",
              "      <th>4</th>\n",
              "      <td>numpang nanya itu hapenya xiaomi bukan ya? Kalo iya tipe apa? Jernih kameranya mirip iphone</td>\n",
              "      <td>Positive</td>\n",
              "      <td>91</td>\n",
              "      <td>[7, 5, 3, 7, 6, 5, 3, 4, 3, 4, 4, 6, 9, 5, 6]</td>\n",
              "    </tr>\n",
              "  </tbody>\n",
              "</table>\n",
              "</div>"
            ],
            "text/plain": [
              "                                                                                                                                                                                 tweet  ...                                      wordCount\n",
              "0                                                                                                                                                              pake hp xiaomi bisa kan  ...                                [4, 2, 6, 4, 3]\n",
              "1                                                                                                     Xiaomi yi action kamera bagus juga buat video bisa di jadikan pertimbangan nihhh  ...       [6, 2, 6, 6, 5, 4, 4, 5, 4, 2, 7, 12, 5]\n",
              "2                                                                                         Ya Allah jauhkanlah aku dari godaan clickbait line today dan berita-berita di browser xiaomi  ...   [2, 5, 10, 3, 4, 6, 9, 4, 5, 3, 13, 2, 7, 6]\n",
              "3  hpmu opo se? kok sawangane jernih koyok iph â Xiaomi euy:' https://lap78.ask.fm/igoto/45DKECPW7B667HQMHN2IG6NM7SOD5OAUS7QPPAN4D7ROV45V2Q24OJAMGBFM2RRQK2272FYJJNWDWXQVYYU5Y25C...  ...      [4, 3, 3, 3, 9, 6, 5, 3, 3, 6, 5, 244, 3]\n",
              "4                                                                                          numpang nanya itu hapenya xiaomi bukan ya? Kalo iya tipe apa? Jernih kameranya mirip iphone  ...  [7, 5, 3, 7, 6, 5, 3, 4, 3, 4, 4, 6, 9, 5, 6]\n",
              "\n",
              "[5 rows x 4 columns]"
            ]
          },
          "metadata": {
            "tags": []
          },
          "execution_count": 58
        }
      ]
    },
    {
      "cell_type": "code",
      "metadata": {
        "colab": {
          "base_uri": "https://localhost:8080/"
        },
        "id": "35PCcFXYXhzg",
        "outputId": "e8293d2c-ac67-4fd5-9607-856882ab3d72"
      },
      "source": [
        "df[\"tweetLength\"] = df[\"tweet\"].apply(len)\n",
        "df[\"tweetLength\"].describe()"
      ],
      "execution_count": 59,
      "outputs": [
        {
          "output_type": "execute_result",
          "data": {
            "text/plain": [
              "count    101.00000\n",
              "mean      76.80198\n",
              "std       56.98895\n",
              "min        7.00000\n",
              "25%       36.00000\n",
              "50%       60.00000\n",
              "75%       99.00000\n",
              "max      309.00000\n",
              "Name: tweetLength, dtype: float64"
            ]
          },
          "metadata": {
            "tags": []
          },
          "execution_count": 59
        }
      ]
    },
    {
      "cell_type": "code",
      "metadata": {
        "id": "d8Hd-DMDXxyk"
      },
      "source": [
        "def clean_text(text):\n",
        "  text=text.lower()\n",
        "  text=re.sub(\"@[^\\s]+\", \"\", text)\n",
        "  text=re.sub(\"\\w*\\d\\w\", \"\", text)\n",
        "  text=re.sub(r'\\w+:\\/{2}[\\d\\w-]+(\\.[\\d\\w-]+)*(?:(?:\\/[^\\s/]*))*', \"\", text)\n",
        "  text=re.sub(r'(https?:\\/\\/)?([\\da-z\\.-]+)\\.([a-z\\.]{2,6})([\\/\\w\\.-]*)*\\/?\\S', \"\", text)\n",
        "  text=re.sub(\"#[^\\s]+\", \"\", text)\n",
        "  text=re.sub(r'\\b[a-zA-Z]\\b', \"\", text)\n",
        "  return text\n",
        "\n",
        "clean = lambda x: clean_text(x)"
      ],
      "execution_count": 61,
      "outputs": []
    },
    {
      "cell_type": "code",
      "metadata": {
        "id": "eIJhonyTcSJu"
      },
      "source": [
        "def Punctuation(string):\n",
        "  punctuation='''!\"#$%&'()*+,-./:;<=>?@[\\]^_`{|}~'''\n",
        "  for x in string.lower():\n",
        "    if x in punctuation:\n",
        "      string = string.replace(x, \"\")\n",
        "\n",
        "  return(string)\n",
        "\n",
        "cleanPunc = lambda x: Punctuation(x)"
      ],
      "execution_count": 62,
      "outputs": []
    },
    {
      "cell_type": "code",
      "metadata": {
        "colab": {
          "base_uri": "https://localhost:8080/",
          "height": 411
        },
        "id": "ViYh2rH_dr0o",
        "outputId": "12fbc3e2-3468-466f-9c0d-fd314ebd93db"
      },
      "source": [
        "dfx=pd.DataFrame(df.tweet.apply(clean))\n",
        "dfx"
      ],
      "execution_count": 63,
      "outputs": [
        {
          "output_type": "execute_result",
          "data": {
            "text/html": [
              "<div>\n",
              "<style scoped>\n",
              "    .dataframe tbody tr th:only-of-type {\n",
              "        vertical-align: middle;\n",
              "    }\n",
              "\n",
              "    .dataframe tbody tr th {\n",
              "        vertical-align: top;\n",
              "    }\n",
              "\n",
              "    .dataframe thead th {\n",
              "        text-align: right;\n",
              "    }\n",
              "</style>\n",
              "<table border=\"1\" class=\"dataframe\">\n",
              "  <thead>\n",
              "    <tr style=\"text-align: right;\">\n",
              "      <th></th>\n",
              "      <th>tweet</th>\n",
              "    </tr>\n",
              "  </thead>\n",
              "  <tbody>\n",
              "    <tr>\n",
              "      <th>0</th>\n",
              "      <td>pake hp xiaomi bisa kan</td>\n",
              "    </tr>\n",
              "    <tr>\n",
              "      <th>1</th>\n",
              "      <td>xiaomi yi action kamera bagus juga buat video bisa di jadikan pertimbangan nihhh</td>\n",
              "    </tr>\n",
              "    <tr>\n",
              "      <th>2</th>\n",
              "      <td>ya allah jauhkanlah aku dari godaan clickbait line today dan berita-berita di browser xiaomi</td>\n",
              "    </tr>\n",
              "    <tr>\n",
              "      <th>3</th>\n",
              "      <td>hpmu opo se? kok sawangane jernih koyok iph â xiaomi euy:' ==â â¦</td>\n",
              "    </tr>\n",
              "    <tr>\n",
              "      <th>4</th>\n",
              "      <td>numpang nanya itu hapenya xiaomi bukan ya? kalo iya tipe apa? jernih kameranya mirip iphone</td>\n",
              "    </tr>\n",
              "    <tr>\n",
              "      <th>...</th>\n",
              "      <td>...</td>\n",
              "    </tr>\n",
              "    <tr>\n",
              "      <th>96</th>\n",
              "      <td>xiaomi bagus ka hehe</td>\n",
              "    </tr>\n",
              "    <tr>\n",
              "      <th>97</th>\n",
              "      <td>baru tahu kalo xiaomi bisa screen record wkwkwk</td>\n",
              "    </tr>\n",
              "    <tr>\n",
              "      <th>98</th>\n",
              "      <td>bgst mau nanya disini ada yg  xiaomi mi ya susah cari sinyal ga semenjak update ke patch juni ?</td>\n",
              "    </tr>\n",
              "    <tr>\n",
              "      <th>99</th>\n",
              "      <td>hp aku gitu dulu xiaomi, tapi ga sampe ke konter ku cari di google alhamdulillah bisa itu siapa tau bootlop nder kalo bootlop gausah ke konter:( sayang uangnya.</td>\n",
              "    </tr>\n",
              "    <tr>\n",
              "      <th>100</th>\n",
              "      <td>mau kalo ada xiaomi note  yg ga finger print soalnya jarang bgt</td>\n",
              "    </tr>\n",
              "  </tbody>\n",
              "</table>\n",
              "<p>101 rows × 1 columns</p>\n",
              "</div>"
            ],
            "text/plain": [
              "                                                                                                                                                                tweet\n",
              "0                                                                                                                                             pake hp xiaomi bisa kan\n",
              "1                                                                                    xiaomi yi action kamera bagus juga buat video bisa di jadikan pertimbangan nihhh\n",
              "2                                                                        ya allah jauhkanlah aku dari godaan clickbait line today dan berita-berita di browser xiaomi\n",
              "3                                                                                                hpmu opo se? kok sawangane jernih koyok iph â xiaomi euy:' ==â â¦\n",
              "4                                                                         numpang nanya itu hapenya xiaomi bukan ya? kalo iya tipe apa? jernih kameranya mirip iphone\n",
              "..                                                                                                                                                                ...\n",
              "96                                                                                                                                               xiaomi bagus ka hehe\n",
              "97                                                                                                                    baru tahu kalo xiaomi bisa screen record wkwkwk\n",
              "98                                                                    bgst mau nanya disini ada yg  xiaomi mi ya susah cari sinyal ga semenjak update ke patch juni ?\n",
              "99   hp aku gitu dulu xiaomi, tapi ga sampe ke konter ku cari di google alhamdulillah bisa itu siapa tau bootlop nder kalo bootlop gausah ke konter:( sayang uangnya.\n",
              "100                                                                                                   mau kalo ada xiaomi note  yg ga finger print soalnya jarang bgt\n",
              "\n",
              "[101 rows x 1 columns]"
            ]
          },
          "metadata": {
            "tags": []
          },
          "execution_count": 63
        }
      ]
    },
    {
      "cell_type": "code",
      "metadata": {
        "colab": {
          "base_uri": "https://localhost:8080/",
          "height": 200
        },
        "id": "PNLJF8gvdfcx",
        "outputId": "a999c788-df80-4bf3-da5c-1a6c467e439d"
      },
      "source": [
        "dfx=pd.DataFrame(dfx.tweet.apply(cleanPunc))\n",
        "dfx.head()"
      ],
      "execution_count": 64,
      "outputs": [
        {
          "output_type": "execute_result",
          "data": {
            "text/html": [
              "<div>\n",
              "<style scoped>\n",
              "    .dataframe tbody tr th:only-of-type {\n",
              "        vertical-align: middle;\n",
              "    }\n",
              "\n",
              "    .dataframe tbody tr th {\n",
              "        vertical-align: top;\n",
              "    }\n",
              "\n",
              "    .dataframe thead th {\n",
              "        text-align: right;\n",
              "    }\n",
              "</style>\n",
              "<table border=\"1\" class=\"dataframe\">\n",
              "  <thead>\n",
              "    <tr style=\"text-align: right;\">\n",
              "      <th></th>\n",
              "      <th>tweet</th>\n",
              "    </tr>\n",
              "  </thead>\n",
              "  <tbody>\n",
              "    <tr>\n",
              "      <th>0</th>\n",
              "      <td>pake hp xiaomi bisa kan</td>\n",
              "    </tr>\n",
              "    <tr>\n",
              "      <th>1</th>\n",
              "      <td>xiaomi yi action kamera bagus juga buat video bisa di jadikan pertimbangan nihhh</td>\n",
              "    </tr>\n",
              "    <tr>\n",
              "      <th>2</th>\n",
              "      <td>ya allah jauhkanlah aku dari godaan clickbait line today dan beritaberita di browser xiaomi</td>\n",
              "    </tr>\n",
              "    <tr>\n",
              "      <th>3</th>\n",
              "      <td>hpmu opo se kok sawangane jernih koyok iph â xiaomi euy â â¦</td>\n",
              "    </tr>\n",
              "    <tr>\n",
              "      <th>4</th>\n",
              "      <td>numpang nanya itu hapenya xiaomi bukan ya kalo iya tipe apa jernih kameranya mirip iphone</td>\n",
              "    </tr>\n",
              "  </tbody>\n",
              "</table>\n",
              "</div>"
            ],
            "text/plain": [
              "                                                                                         tweet\n",
              "0                                                                      pake hp xiaomi bisa kan\n",
              "1             xiaomi yi action kamera bagus juga buat video bisa di jadikan pertimbangan nihhh\n",
              "2  ya allah jauhkanlah aku dari godaan clickbait line today dan beritaberita di browser xiaomi\n",
              "3                              hpmu opo se kok sawangane jernih koyok iph â xiaomi euy â â¦\n",
              "4    numpang nanya itu hapenya xiaomi bukan ya kalo iya tipe apa jernih kameranya mirip iphone"
            ]
          },
          "metadata": {
            "tags": []
          },
          "execution_count": 64
        }
      ]
    },
    {
      "cell_type": "code",
      "metadata": {
        "id": "IvKYinwtd7NK"
      },
      "source": [
        "def get_stopword(stopwordsfile):\n",
        "  stopwords=[]\n",
        "  file_stopwords=open(stopwordsfile, 'r')\n",
        "  row= file_stopwords.readline()\n",
        "  while row:\n",
        "    word=row.strip()\n",
        "    stopwords.append(word)\n",
        "    row=file_stopwords.readline()\n",
        "  file_stopwords.close()\n",
        "  return stopwords"
      ],
      "execution_count": 65,
      "outputs": []
    },
    {
      "cell_type": "code",
      "metadata": {
        "colab": {
          "base_uri": "https://localhost:8080/"
        },
        "id": "q_WQ_JzMfYgI",
        "outputId": "e836e97a-6eec-4a3e-e4a5-2de04411b003"
      },
      "source": [
        "from google.colab import drive\n",
        "drive.mount('/content/drive')"
      ],
      "execution_count": 66,
      "outputs": [
        {
          "output_type": "stream",
          "text": [
            "Mounted at /content/drive\n"
          ],
          "name": "stdout"
        }
      ]
    },
    {
      "cell_type": "code",
      "metadata": {
        "id": "QlXFSsJpetOd"
      },
      "source": [
        "stop_words_indo=get_stopword(\"/content/drive/MyDrive/temp/stopwordsindo.txt\")"
      ],
      "execution_count": 67,
      "outputs": []
    },
    {
      "cell_type": "code",
      "metadata": {
        "colab": {
          "base_uri": "https://localhost:8080/"
        },
        "id": "y2kyCfSHisA7",
        "outputId": "77ffaf2b-961b-475e-a0a0-9ae13e4acaff"
      },
      "source": [
        "import nltk\n",
        "nltk.download('punkt')"
      ],
      "execution_count": 68,
      "outputs": [
        {
          "output_type": "stream",
          "text": [
            "[nltk_data] Downloading package punkt to /root/nltk_data...\n",
            "[nltk_data]   Unzipping tokenizers/punkt.zip.\n"
          ],
          "name": "stdout"
        },
        {
          "output_type": "execute_result",
          "data": {
            "text/plain": [
              "True"
            ]
          },
          "metadata": {
            "tags": []
          },
          "execution_count": 68
        }
      ]
    },
    {
      "cell_type": "code",
      "metadata": {
        "id": "9anE5SKghtiu"
      },
      "source": [
        "def stopwords(text):\n",
        "  tokens = word_tokenize(text)\n",
        "  filtered = []\n",
        "\n",
        "  for w in tokens:\n",
        "    if w not in stop_words_indo:\n",
        "      filtered.append(w)\n",
        "\n",
        "  hasil=' '.join(filtered)\n",
        "  return hasil\n",
        "\n",
        "st=lambda x: stopwords(x)"
      ],
      "execution_count": 69,
      "outputs": []
    },
    {
      "cell_type": "code",
      "metadata": {
        "colab": {
          "base_uri": "https://localhost:8080/",
          "height": 200
        },
        "id": "DRytDKKgieNS",
        "outputId": "777147ec-672c-4170-8b57-fc1b263dc270"
      },
      "source": [
        "dfx = pd.DataFrame(dfx.tweet.apply(st))\n",
        "dfx.head()"
      ],
      "execution_count": 70,
      "outputs": [
        {
          "output_type": "execute_result",
          "data": {
            "text/html": [
              "<div>\n",
              "<style scoped>\n",
              "    .dataframe tbody tr th:only-of-type {\n",
              "        vertical-align: middle;\n",
              "    }\n",
              "\n",
              "    .dataframe tbody tr th {\n",
              "        vertical-align: top;\n",
              "    }\n",
              "\n",
              "    .dataframe thead th {\n",
              "        text-align: right;\n",
              "    }\n",
              "</style>\n",
              "<table border=\"1\" class=\"dataframe\">\n",
              "  <thead>\n",
              "    <tr style=\"text-align: right;\">\n",
              "      <th></th>\n",
              "      <th>tweet</th>\n",
              "    </tr>\n",
              "  </thead>\n",
              "  <tbody>\n",
              "    <tr>\n",
              "      <th>0</th>\n",
              "      <td>pake hp xiaomi</td>\n",
              "    </tr>\n",
              "    <tr>\n",
              "      <th>1</th>\n",
              "      <td>xiaomi yi action kamera bagus video jadikan pertimbangan nihhh</td>\n",
              "    </tr>\n",
              "    <tr>\n",
              "      <th>2</th>\n",
              "      <td>ya allah jauhkanlah godaan clickbait line today beritaberita browser xiaomi</td>\n",
              "    </tr>\n",
              "    <tr>\n",
              "      <th>3</th>\n",
              "      <td>hpmu opo sawangane jernih koyok iph â xiaomi euy â â¦</td>\n",
              "    </tr>\n",
              "    <tr>\n",
              "      <th>4</th>\n",
              "      <td>numpang nanya hapenya xiaomi ya kalo iya tipe jernih kameranya iphone</td>\n",
              "    </tr>\n",
              "  </tbody>\n",
              "</table>\n",
              "</div>"
            ],
            "text/plain": [
              "                                                                         tweet\n",
              "0                                                               pake hp xiaomi\n",
              "1               xiaomi yi action kamera bagus video jadikan pertimbangan nihhh\n",
              "2  ya allah jauhkanlah godaan clickbait line today beritaberita browser xiaomi\n",
              "3                     hpmu opo sawangane jernih koyok iph â xiaomi euy â â¦\n",
              "4        numpang nanya hapenya xiaomi ya kalo iya tipe jernih kameranya iphone"
            ]
          },
          "metadata": {
            "tags": []
          },
          "execution_count": 70
        }
      ]
    },
    {
      "cell_type": "code",
      "metadata": {
        "id": "Yk4nYln4i6v4"
      },
      "source": [
        "def stemming(text):\n",
        "  factory_stem=StemmerFactory()\n",
        "  stemmer=factory_stem.create_stemmer()\n",
        "  text=stemmer.stem(text)\n",
        "  return text\n",
        "\n",
        "stem = lambda x: stemming(x)"
      ],
      "execution_count": 71,
      "outputs": []
    },
    {
      "cell_type": "code",
      "metadata": {
        "colab": {
          "base_uri": "https://localhost:8080/",
          "height": 200
        },
        "id": "hSXtvTgGjTFp",
        "outputId": "199fa472-1cc9-49a2-eeea-d4e4a61f715f"
      },
      "source": [
        "dfx = pd.DataFrame(dfx.tweet.apply(stem))\n",
        "dfx.head()"
      ],
      "execution_count": 72,
      "outputs": [
        {
          "output_type": "execute_result",
          "data": {
            "text/html": [
              "<div>\n",
              "<style scoped>\n",
              "    .dataframe tbody tr th:only-of-type {\n",
              "        vertical-align: middle;\n",
              "    }\n",
              "\n",
              "    .dataframe tbody tr th {\n",
              "        vertical-align: top;\n",
              "    }\n",
              "\n",
              "    .dataframe thead th {\n",
              "        text-align: right;\n",
              "    }\n",
              "</style>\n",
              "<table border=\"1\" class=\"dataframe\">\n",
              "  <thead>\n",
              "    <tr style=\"text-align: right;\">\n",
              "      <th></th>\n",
              "      <th>tweet</th>\n",
              "    </tr>\n",
              "  </thead>\n",
              "  <tbody>\n",
              "    <tr>\n",
              "      <th>0</th>\n",
              "      <td>pake hp xiaomi</td>\n",
              "    </tr>\n",
              "    <tr>\n",
              "      <th>1</th>\n",
              "      <td>xiaomi yi action kamera bagus video jadi timbang nihhh</td>\n",
              "    </tr>\n",
              "    <tr>\n",
              "      <th>2</th>\n",
              "      <td>ya allah jauh goda clickbait line today beritaberita browser xiaomi</td>\n",
              "    </tr>\n",
              "    <tr>\n",
              "      <th>3</th>\n",
              "      <td>hpmu opo sawangane jernih koyok iph xiaomi euy</td>\n",
              "    </tr>\n",
              "    <tr>\n",
              "      <th>4</th>\n",
              "      <td>numpang nanya hapenya xiaomi ya kalo iya tipe jernih kamera iphone</td>\n",
              "    </tr>\n",
              "  </tbody>\n",
              "</table>\n",
              "</div>"
            ],
            "text/plain": [
              "                                                                 tweet\n",
              "0                                                       pake hp xiaomi\n",
              "1               xiaomi yi action kamera bagus video jadi timbang nihhh\n",
              "2  ya allah jauh goda clickbait line today beritaberita browser xiaomi\n",
              "3                       hpmu opo sawangane jernih koyok iph xiaomi euy\n",
              "4   numpang nanya hapenya xiaomi ya kalo iya tipe jernih kamera iphone"
            ]
          },
          "metadata": {
            "tags": []
          },
          "execution_count": 72
        }
      ]
    },
    {
      "cell_type": "code",
      "metadata": {
        "colab": {
          "base_uri": "https://localhost:8080/",
          "height": 411
        },
        "id": "x2iF6tj9kBpE",
        "outputId": "5ec9eeb9-f171-4b6f-b607-bc7c747a6c31"
      },
      "source": [
        "dfx[\"sentiment\"]=df[\"sentiment\"]\n",
        "dfx"
      ],
      "execution_count": 73,
      "outputs": [
        {
          "output_type": "execute_result",
          "data": {
            "text/html": [
              "<div>\n",
              "<style scoped>\n",
              "    .dataframe tbody tr th:only-of-type {\n",
              "        vertical-align: middle;\n",
              "    }\n",
              "\n",
              "    .dataframe tbody tr th {\n",
              "        vertical-align: top;\n",
              "    }\n",
              "\n",
              "    .dataframe thead th {\n",
              "        text-align: right;\n",
              "    }\n",
              "</style>\n",
              "<table border=\"1\" class=\"dataframe\">\n",
              "  <thead>\n",
              "    <tr style=\"text-align: right;\">\n",
              "      <th></th>\n",
              "      <th>tweet</th>\n",
              "      <th>sentiment</th>\n",
              "    </tr>\n",
              "  </thead>\n",
              "  <tbody>\n",
              "    <tr>\n",
              "      <th>0</th>\n",
              "      <td>pake hp xiaomi</td>\n",
              "      <td>Positive</td>\n",
              "    </tr>\n",
              "    <tr>\n",
              "      <th>1</th>\n",
              "      <td>xiaomi yi action kamera bagus video jadi timbang nihhh</td>\n",
              "      <td>Positive</td>\n",
              "    </tr>\n",
              "    <tr>\n",
              "      <th>2</th>\n",
              "      <td>ya allah jauh goda clickbait line today beritaberita browser xiaomi</td>\n",
              "      <td>Positive</td>\n",
              "    </tr>\n",
              "    <tr>\n",
              "      <th>3</th>\n",
              "      <td>hpmu opo sawangane jernih koyok iph xiaomi euy</td>\n",
              "      <td>Positive</td>\n",
              "    </tr>\n",
              "    <tr>\n",
              "      <th>4</th>\n",
              "      <td>numpang nanya hapenya xiaomi ya kalo iya tipe jernih kamera iphone</td>\n",
              "      <td>Positive</td>\n",
              "    </tr>\n",
              "    <tr>\n",
              "      <th>...</th>\n",
              "      <td>...</td>\n",
              "      <td>...</td>\n",
              "    </tr>\n",
              "    <tr>\n",
              "      <th>96</th>\n",
              "      <td>xiaomi bagus ka hehe</td>\n",
              "      <td>Positive</td>\n",
              "    </tr>\n",
              "    <tr>\n",
              "      <th>97</th>\n",
              "      <td>kalo xiaomi screen record wkwkwk</td>\n",
              "      <td>Positive</td>\n",
              "    </tr>\n",
              "    <tr>\n",
              "      <th>98</th>\n",
              "      <td>bgst nanya yg xiaomi mi ya susah cari sinyal ga semenjak update patch juni</td>\n",
              "      <td>Negative</td>\n",
              "    </tr>\n",
              "    <tr>\n",
              "      <th>99</th>\n",
              "      <td>hp gitu xiaomi ga sampe konter ku cari google alhamdulillah tau bootlop nder kalo bootlop gausah konter sayang uang</td>\n",
              "      <td>Negative</td>\n",
              "    </tr>\n",
              "    <tr>\n",
              "      <th>100</th>\n",
              "      <td>kalo xiaomi note yg ga finger print jarang bgt</td>\n",
              "      <td>Positive</td>\n",
              "    </tr>\n",
              "  </tbody>\n",
              "</table>\n",
              "<p>101 rows × 2 columns</p>\n",
              "</div>"
            ],
            "text/plain": [
              "                                                                                                                   tweet sentiment\n",
              "0                                                                                                         pake hp xiaomi  Positive\n",
              "1                                                                 xiaomi yi action kamera bagus video jadi timbang nihhh  Positive\n",
              "2                                                    ya allah jauh goda clickbait line today beritaberita browser xiaomi  Positive\n",
              "3                                                                         hpmu opo sawangane jernih koyok iph xiaomi euy  Positive\n",
              "4                                                     numpang nanya hapenya xiaomi ya kalo iya tipe jernih kamera iphone  Positive\n",
              "..                                                                                                                   ...       ...\n",
              "96                                                                                                  xiaomi bagus ka hehe  Positive\n",
              "97                                                                                      kalo xiaomi screen record wkwkwk  Positive\n",
              "98                                            bgst nanya yg xiaomi mi ya susah cari sinyal ga semenjak update patch juni  Negative\n",
              "99   hp gitu xiaomi ga sampe konter ku cari google alhamdulillah tau bootlop nder kalo bootlop gausah konter sayang uang  Negative\n",
              "100                                                                       kalo xiaomi note yg ga finger print jarang bgt  Positive\n",
              "\n",
              "[101 rows x 2 columns]"
            ]
          },
          "metadata": {
            "tags": []
          },
          "execution_count": 73
        }
      ]
    },
    {
      "cell_type": "code",
      "metadata": {
        "id": "SBFJ6NX1k9Lm"
      },
      "source": [
        "vectorizer = TfidfVectorizer(use_idf=True, strip_accents=\"ascii\")"
      ],
      "execution_count": 74,
      "outputs": []
    },
    {
      "cell_type": "code",
      "metadata": {
        "id": "-dFvhZXZk-j5"
      },
      "source": [
        "y=dfx.sentiment\n",
        "X=dfx.tweet"
      ],
      "execution_count": 120,
      "outputs": []
    },
    {
      "cell_type": "code",
      "metadata": {
        "id": "wezZMEdDJrS3"
      },
      "source": [
        "X_v=vectorizer.fit_transform(X)"
      ],
      "execution_count": 121,
      "outputs": []
    },
    {
      "cell_type": "code",
      "metadata": {
        "id": "bYkbYd5PlDix"
      },
      "source": [
        "X_train, X_test, y_train, y_test = train_test_split(X, y, test_size=0.3, random_state=33)"
      ],
      "execution_count": 122,
      "outputs": []
    },
    {
      "cell_type": "code",
      "metadata": {
        "colab": {
          "base_uri": "https://localhost:8080/"
        },
        "id": "3QQXfVWjlXq2",
        "outputId": "d1cac371-db3e-4540-9a8d-be6f00019266"
      },
      "source": [
        "X_train_vect = vectorizer.fit_transform(X_train)\n",
        "X_test_vect=vectorizer.transform(X_test)\n",
        "\n",
        "mnb = MultinomialNB()\n",
        "\n",
        "mnb.fit(X_train_vect, y_train)\n",
        "y_pred = mnb.predict(X_test_vect)\n",
        "\n",
        "accuracy_score(y_test, y_pred)"
      ],
      "execution_count": 123,
      "outputs": [
        {
          "output_type": "execute_result",
          "data": {
            "text/plain": [
              "0.6774193548387096"
            ]
          },
          "metadata": {
            "tags": []
          },
          "execution_count": 123
        }
      ]
    },
    {
      "cell_type": "code",
      "metadata": {
        "id": "YoR0DwGwBypC"
      },
      "source": [
        "from sklearn.metrics import classification_report, confusion_matrix"
      ],
      "execution_count": 124,
      "outputs": []
    },
    {
      "cell_type": "code",
      "metadata": {
        "colab": {
          "base_uri": "https://localhost:8080/"
        },
        "id": "s_UoLMoEDAyD",
        "outputId": "574ca0e6-c0f9-4879-febd-f2ad4fce613e"
      },
      "source": [
        "print(confusion_matrix(y_test, y_pred))"
      ],
      "execution_count": 125,
      "outputs": [
        {
          "output_type": "stream",
          "text": [
            "[[ 0 10]\n",
            " [ 0 21]]\n"
          ],
          "name": "stdout"
        }
      ]
    },
    {
      "cell_type": "code",
      "metadata": {
        "colab": {
          "base_uri": "https://localhost:8080/"
        },
        "id": "4l-7YoiADKe0",
        "outputId": "285a0cb5-159c-43d3-fa0a-ef5f6e43e3f3"
      },
      "source": [
        "print(classification_report(y_test, y_pred, zero_division=\"warn\"))"
      ],
      "execution_count": 126,
      "outputs": [
        {
          "output_type": "stream",
          "text": [
            "              precision    recall  f1-score   support\n",
            "\n",
            "    Negative       0.00      0.00      0.00        10\n",
            "    Positive       0.68      1.00      0.81        21\n",
            "\n",
            "    accuracy                           0.68        31\n",
            "   macro avg       0.34      0.50      0.40        31\n",
            "weighted avg       0.46      0.68      0.55        31\n",
            "\n"
          ],
          "name": "stdout"
        },
        {
          "output_type": "stream",
          "text": [
            "/usr/local/lib/python3.6/dist-packages/sklearn/metrics/_classification.py:1272: UndefinedMetricWarning: Precision and F-score are ill-defined and being set to 0.0 in labels with no predicted samples. Use `zero_division` parameter to control this behavior.\n",
            "  _warn_prf(average, modifier, msg_start, len(result))\n"
          ],
          "name": "stderr"
        }
      ]
    },
    {
      "cell_type": "code",
      "metadata": {
        "colab": {
          "base_uri": "https://localhost:8080/"
        },
        "id": "rcqHdbV6JiTV",
        "outputId": "bca10290-e491-4d94-db18-6d5645f3c910"
      },
      "source": [
        "print(\"MNB\")\n",
        "scores_accuracy_mnb = cross_val_score(mnb, X_v, y, cv=10, scoring='accuracy')\n",
        "print(\"Rata-rata nilai akurasi: %0.2f (+/- %0.2f)\" % (scores_accuracy_mnb.mean(), scores_accuracy_mnb.std()))\n",
        "\n",
        "scores_precision_mnb = cross_val_score(mnb, X_v, y, cv=10, scoring='precision_macro')\n",
        "print(\"Rata-rata nilai precision macro: %0.2f (+/- %0.2f)\" % (scores_precision_mnb.mean(), scores_precision_mnb.std()))\n",
        "\n",
        "scores_recall_mnb = cross_val_score(mnb, X_v, y, cv=10, scoring='recall_macro')\n",
        "print(\"Rata-rata nilai recall macro: %0.2f (+/- %0.2f)\" % (scores_recall_mnb.mean(), scores_recall_mnb.std()))\n",
        "\n",
        "scores_f1_mnb = cross_val_score(mnb, X_v, y, cv=10, scoring='f1_macro')\n",
        "print(\"Rata-rata nilai f1 macro: %0.2f (+/- %0.2f)\" % (scores_f1_mnb.mean(), scores_f1_mnb.std()))"
      ],
      "execution_count": 132,
      "outputs": [
        {
          "output_type": "stream",
          "text": [
            "MNB\n",
            "Rata-rata nilai akurasi: 0.71 (+/- 0.03)\n",
            "Rata-rata nilai precision macro: 0.36 (+/- 0.02)\n",
            "Rata-rata nilai recall macro: 0.50 (+/- 0.00)\n",
            "Rata-rata nilai f1 macro: 0.42 (+/- 0.01)\n"
          ],
          "name": "stdout"
        },
        {
          "output_type": "stream",
          "text": [
            "/usr/local/lib/python3.6/dist-packages/sklearn/metrics/_classification.py:1272: UndefinedMetricWarning: Precision is ill-defined and being set to 0.0 in labels with no predicted samples. Use `zero_division` parameter to control this behavior.\n",
            "  _warn_prf(average, modifier, msg_start, len(result))\n",
            "/usr/local/lib/python3.6/dist-packages/sklearn/metrics/_classification.py:1272: UndefinedMetricWarning: Precision is ill-defined and being set to 0.0 in labels with no predicted samples. Use `zero_division` parameter to control this behavior.\n",
            "  _warn_prf(average, modifier, msg_start, len(result))\n",
            "/usr/local/lib/python3.6/dist-packages/sklearn/metrics/_classification.py:1272: UndefinedMetricWarning: Precision is ill-defined and being set to 0.0 in labels with no predicted samples. Use `zero_division` parameter to control this behavior.\n",
            "  _warn_prf(average, modifier, msg_start, len(result))\n",
            "/usr/local/lib/python3.6/dist-packages/sklearn/metrics/_classification.py:1272: UndefinedMetricWarning: Precision is ill-defined and being set to 0.0 in labels with no predicted samples. Use `zero_division` parameter to control this behavior.\n",
            "  _warn_prf(average, modifier, msg_start, len(result))\n",
            "/usr/local/lib/python3.6/dist-packages/sklearn/metrics/_classification.py:1272: UndefinedMetricWarning: Precision is ill-defined and being set to 0.0 in labels with no predicted samples. Use `zero_division` parameter to control this behavior.\n",
            "  _warn_prf(average, modifier, msg_start, len(result))\n",
            "/usr/local/lib/python3.6/dist-packages/sklearn/metrics/_classification.py:1272: UndefinedMetricWarning: Precision is ill-defined and being set to 0.0 in labels with no predicted samples. Use `zero_division` parameter to control this behavior.\n",
            "  _warn_prf(average, modifier, msg_start, len(result))\n",
            "/usr/local/lib/python3.6/dist-packages/sklearn/metrics/_classification.py:1272: UndefinedMetricWarning: Precision is ill-defined and being set to 0.0 in labels with no predicted samples. Use `zero_division` parameter to control this behavior.\n",
            "  _warn_prf(average, modifier, msg_start, len(result))\n",
            "/usr/local/lib/python3.6/dist-packages/sklearn/metrics/_classification.py:1272: UndefinedMetricWarning: Precision is ill-defined and being set to 0.0 in labels with no predicted samples. Use `zero_division` parameter to control this behavior.\n",
            "  _warn_prf(average, modifier, msg_start, len(result))\n",
            "/usr/local/lib/python3.6/dist-packages/sklearn/metrics/_classification.py:1272: UndefinedMetricWarning: Precision is ill-defined and being set to 0.0 in labels with no predicted samples. Use `zero_division` parameter to control this behavior.\n",
            "  _warn_prf(average, modifier, msg_start, len(result))\n",
            "/usr/local/lib/python3.6/dist-packages/sklearn/metrics/_classification.py:1272: UndefinedMetricWarning: Precision is ill-defined and being set to 0.0 in labels with no predicted samples. Use `zero_division` parameter to control this behavior.\n",
            "  _warn_prf(average, modifier, msg_start, len(result))\n"
          ],
          "name": "stderr"
        }
      ]
    },
    {
      "cell_type": "code",
      "metadata": {
        "id": "7TWmwx_TJ3J6"
      },
      "source": [
        ""
      ],
      "execution_count": null,
      "outputs": []
    }
  ]
}